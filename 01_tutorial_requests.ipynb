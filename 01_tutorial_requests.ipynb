{
 "cells": [
  {
   "attachments": {},
   "cell_type": "markdown",
   "metadata": {},
   "source": [
    "## Introdução\n",
    "\n",
    "O primeiro passo para se trabalhar com o pacote `requests` é importá-lo. Para isso, é necessário tê-lo instalado em seu ambiente Python atual.\n",
    "\n",
    "Para instalar o pacote `requests`, basta digitar no terminal:\n",
    "\n",
    "```cmd\n",
    "pip install requests\n",
    "```\n"
   ]
  },
  {
   "cell_type": "code",
   "execution_count": null,
   "metadata": {},
   "outputs": [],
   "source": [
    "import requests"
   ]
  },
  {
   "attachments": {},
   "cell_type": "markdown",
   "metadata": {},
   "source": [
    "## Métodos HTTP\n",
    "\n",
    "O `requests` traz consigo funções que representam os métodos do HTTP. Para executá-los, basta chamar suas respectivas funções e passar a URL desejada como parâmetro. Em resposta, a função retorna um objeto do tipo `Response`, que contém os metadados da requisição e o conteúdo da resposta.\n"
   ]
  },
  {
   "attachments": {},
   "cell_type": "markdown",
   "metadata": {},
   "source": [
    "### Método GET\n",
    "\n",
    "Vamos observar o que acontece quando passamos o URL de um site de exemplo para o método `GET`.\n"
   ]
  },
  {
   "cell_type": "code",
   "execution_count": null,
   "metadata": {},
   "outputs": [],
   "source": [
    "response = requests.get(\"http://www.example.com\")\n",
    "response"
   ]
  },
  {
   "attachments": {},
   "cell_type": "markdown",
   "metadata": {},
   "source": [
    "O objeto `Response`, quando exibido na tela, aparece representado pelo status code da operação. No caso, a operação foi bem sucedida, portanto o código recebido foi 200 (Ok).\n",
    "\n",
    "No entanto, só o status code da operação não nos é tão útil nesse caso. Precisamos acessar o conteúdo da resposta. Para isso, podemos acessar o atributo `text` do objeto `Response`:\n"
   ]
  },
  {
   "cell_type": "code",
   "execution_count": null,
   "metadata": {},
   "outputs": [],
   "source": [
    "response.text"
   ]
  },
  {
   "attachments": {},
   "cell_type": "markdown",
   "metadata": {},
   "source": [
    "Conforme pode ser observado, obtivemos, neste caso, o que seria o código HTML da página do site Example.\n"
   ]
  },
  {
   "attachments": {},
   "cell_type": "markdown",
   "metadata": {},
   "source": [
    "### O método GET com API\n",
    "\n",
    "Também podemos utilizar o pacote `requests` com APIs em vez de sites. No exemplo abaixo, utilizaremos a API do GitHub que, desta vez, retornará seus dados estruturados no formato JSON em vez de HTML.\n"
   ]
  },
  {
   "cell_type": "code",
   "execution_count": null,
   "metadata": {},
   "outputs": [],
   "source": [
    "response = requests.get(\"https://api.github.com/users/c-sant\")\n",
    "response"
   ]
  },
  {
   "cell_type": "code",
   "execution_count": null,
   "metadata": {},
   "outputs": [],
   "source": [
    "response.text"
   ]
  },
  {
   "attachments": {},
   "cell_type": "markdown",
   "metadata": {},
   "source": [
    "Mais uma vez, utilizamos o atributo `text`. Porém, como neste caso o resultado veio no formato JSON, podemos utilizar o método `json` do objeto `Response` para obter os dados no formato estruturado como um `dict`.\n"
   ]
  },
  {
   "cell_type": "code",
   "execution_count": null,
   "metadata": {},
   "outputs": [],
   "source": [
    "data = response.json()\n",
    "data"
   ]
  },
  {
   "cell_type": "code",
   "execution_count": null,
   "metadata": {},
   "outputs": [],
   "source": [
    "print(f\"Nome: {data['name']}\")\n",
    "print(f\"Bio: {data['bio']}\")\n",
    "print(f\"Empresa: {data['company']}\")"
   ]
  },
  {
   "attachments": {},
   "cell_type": "markdown",
   "metadata": {},
   "source": [
    "Como podemos observar, é muito mais fácil trabalhar com os dados obtidos pela API, uma vez que eles já vêm estruturados e prontos para serem convertidos em um dicionário Python, sem a necessidade de transformação de string.\n"
   ]
  },
  {
   "attachments": {},
   "cell_type": "markdown",
   "metadata": {},
   "source": [
    "### Passando argumentos para a URL\n",
    "\n",
    "Também é possível passar argumentos para a URL-alvo da requisição. Esses argumentos entram como argumentos da própria função do pacote.\n",
    "\n",
    "No exemplo abaixo, vamos requisitar os resultados da busca da palavra \"python\" nos repositórios do GitHub ordenados de forma decrescente de acordo com o número de estrelas dadas.\n"
   ]
  },
  {
   "cell_type": "code",
   "execution_count": null,
   "metadata": {},
   "outputs": [],
   "source": [
    "url = \"https://api.github.com/search/repositories\"\n",
    "\n",
    "query = \"python\"\n",
    "sort_criteria = \"stars\"\n",
    "sort_order = \"desc\"\n",
    "\n",
    "params = {\n",
    "    \"q\": query,\n",
    "    \"sort\": sort_criteria,\n",
    "    \"order\": sort_order,\n",
    "}\n",
    "\n",
    "response = requests.get(url=url, params=params)\n",
    "response"
   ]
  },
  {
   "attachments": {},
   "cell_type": "markdown",
   "metadata": {},
   "source": [
    "O URL será adaptado de acordo com os parâmetros passados:\n"
   ]
  },
  {
   "cell_type": "code",
   "execution_count": null,
   "metadata": {},
   "outputs": [],
   "source": [
    "response.url"
   ]
  },
  {
   "cell_type": "code",
   "execution_count": null,
   "metadata": {},
   "outputs": [],
   "source": [
    "data = response.json()\n",
    "\n",
    "print(\"Os 10 projetos Python com mais estrelas são:\")\n",
    "\n",
    "for item in data[\"items\"][:10]:\n",
    "    print(f\"{item['name']} ({item['stargazers_count']} estrelas): {item['url']}\")"
   ]
  },
  {
   "cell_type": "markdown",
   "metadata": {},
   "source": [
    "### Outros métodos HTTP\n",
    "\n",
    "Conforme mencionado anteriormente, os outros métodos HTTP também estão disponíveis e funcionam da mesma forma que o `GET`. O exemplo abaixo utilizará o site httpbin:\n"
   ]
  },
  {
   "cell_type": "code",
   "execution_count": null,
   "metadata": {},
   "outputs": [],
   "source": [
    "data = {\n",
    "    \"chave\": \"valor\",\n",
    "}\n",
    "\n",
    "response = requests.post(url=\"https://httpbin.org/post\", data=data)\n",
    "print(f\"Resposta do POST: {response}\")\n",
    "\n",
    "response = requests.put(url=\"https://httpbin.org/put\", data=data)\n",
    "print(f\"Resposta do PUT: {response}\")\n",
    "\n",
    "response = requests.delete(url=\"https://httpbin.org/delete\")\n",
    "print(f\"Resposta do DELETE: {response}\")"
   ]
  }
 ],
 "metadata": {
  "kernelspec": {
   "display_name": "Python 3",
   "language": "python",
   "name": "python3"
  },
  "language_info": {
   "codemirror_mode": {
    "name": "ipython",
    "version": 3
   },
   "file_extension": ".py",
   "mimetype": "text/x-python",
   "name": "python",
   "nbconvert_exporter": "python",
   "pygments_lexer": "ipython3",
   "version": "3.11.0"
  },
  "orig_nbformat": 4
 },
 "nbformat": 4,
 "nbformat_minor": 2
}
