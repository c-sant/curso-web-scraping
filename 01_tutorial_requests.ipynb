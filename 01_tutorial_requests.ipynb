{
 "cells": [
  {
   "attachments": {},
   "cell_type": "markdown",
   "metadata": {},
   "source": [
    "## Introdução\n",
    "\n",
    "O primeiro passo para se trabalhar com o pacote `requests` é importá-lo. Para isso, é necessário tê-lo instalado em seu ambiente Python atual.\n",
    "\n",
    "Para instalar o pacote `requests`, basta digitar no terminal:\n",
    "\n",
    "```cmd\n",
    "pip install requests\n",
    "```\n"
   ]
  },
  {
   "cell_type": "code",
   "execution_count": 2,
   "metadata": {},
   "outputs": [],
   "source": [
    "import requests"
   ]
  },
  {
   "attachments": {},
   "cell_type": "markdown",
   "metadata": {},
   "source": [
    "## Métodos HTTP\n",
    "\n",
    "O `requests` traz consigo funções que representam os métodos do HTTP. Para executá-los, basta chamar suas respectivas funções e passar a URL desejada como parâmetro. Em resposta, a função retorna um objeto do tipo `Response`, que contém os metadados da requisição e o conteúdo da resposta.\n"
   ]
  },
  {
   "attachments": {},
   "cell_type": "markdown",
   "metadata": {},
   "source": [
    "### Método GET\n",
    "\n",
    "Vamos observar o que acontece quando passamos o URL de um site de exemplo para o método `GET`.\n"
   ]
  },
  {
   "cell_type": "code",
   "execution_count": 3,
   "metadata": {},
   "outputs": [
    {
     "data": {
      "text/plain": [
       "<Response [200]>"
      ]
     },
     "execution_count": 3,
     "metadata": {},
     "output_type": "execute_result"
    }
   ],
   "source": [
    "response = requests.get(\"http://www.example.com\")\n",
    "response"
   ]
  },
  {
   "attachments": {},
   "cell_type": "markdown",
   "metadata": {},
   "source": [
    "O objeto `Response`, quando exibido na tela, aparece representado pelo status code da operação. No caso, a operação foi bem sucedida, portanto o código recebido foi 200 (Ok).\n",
    "\n",
    "No entanto, só o status code da operação não nos é tão útil nesse caso. Precisamos acessar o conteúdo da resposta. Para isso, podemos acessar o atributo `text` do objeto `Response`:\n"
   ]
  },
  {
   "cell_type": "code",
   "execution_count": 4,
   "metadata": {},
   "outputs": [
    {
     "data": {
      "text/plain": [
       "'<!doctype html>\\n<html>\\n<head>\\n    <title>Example Domain</title>\\n\\n    <meta charset=\"utf-8\" />\\n    <meta http-equiv=\"Content-type\" content=\"text/html; charset=utf-8\" />\\n    <meta name=\"viewport\" content=\"width=device-width, initial-scale=1\" />\\n    <style type=\"text/css\">\\n    body {\\n        background-color: #f0f0f2;\\n        margin: 0;\\n        padding: 0;\\n        font-family: -apple-system, system-ui, BlinkMacSystemFont, \"Segoe UI\", \"Open Sans\", \"Helvetica Neue\", Helvetica, Arial, sans-serif;\\n        \\n    }\\n    div {\\n        width: 600px;\\n        margin: 5em auto;\\n        padding: 2em;\\n        background-color: #fdfdff;\\n        border-radius: 0.5em;\\n        box-shadow: 2px 3px 7px 2px rgba(0,0,0,0.02);\\n    }\\n    a:link, a:visited {\\n        color: #38488f;\\n        text-decoration: none;\\n    }\\n    @media (max-width: 700px) {\\n        div {\\n            margin: 0 auto;\\n            width: auto;\\n        }\\n    }\\n    </style>    \\n</head>\\n\\n<body>\\n<div>\\n    <h1>Example Domain</h1>\\n    <p>This domain is for use in illustrative examples in documents. You may use this\\n    domain in literature without prior coordination or asking for permission.</p>\\n    <p><a href=\"https://www.iana.org/domains/example\">More information...</a></p>\\n</div>\\n</body>\\n</html>\\n'"
      ]
     },
     "execution_count": 4,
     "metadata": {},
     "output_type": "execute_result"
    }
   ],
   "source": [
    "response.text"
   ]
  },
  {
   "attachments": {},
   "cell_type": "markdown",
   "metadata": {},
   "source": [
    "Conforme pode ser observado, obtivemos, neste caso, o que seria o código HTML da página do site Example.\n"
   ]
  },
  {
   "attachments": {},
   "cell_type": "markdown",
   "metadata": {},
   "source": [
    "### O método GET com API\n",
    "\n",
    "Também podemos utilizar o pacote `requests` com APIs em vez de sites. No exemplo abaixo, utilizaremos a API do GitHub que, desta vez, retornará seus dados estruturados no formato JSON em vez de HTML.\n"
   ]
  },
  {
   "cell_type": "code",
   "execution_count": 5,
   "metadata": {},
   "outputs": [
    {
     "data": {
      "text/plain": [
       "<Response [200]>"
      ]
     },
     "execution_count": 5,
     "metadata": {},
     "output_type": "execute_result"
    }
   ],
   "source": [
    "response = requests.get(\"https://api.github.com/users/c-sant\")\n",
    "response"
   ]
  },
  {
   "cell_type": "code",
   "execution_count": 6,
   "metadata": {},
   "outputs": [
    {
     "data": {
      "text/plain": [
       "'{\"login\":\"c-sant\",\"id\":50174472,\"node_id\":\"MDQ6VXNlcjUwMTc0NDcy\",\"avatar_url\":\"https://avatars.githubusercontent.com/u/50174472?v=4\",\"gravatar_id\":\"\",\"url\":\"https://api.github.com/users/c-sant\",\"html_url\":\"https://github.com/c-sant\",\"followers_url\":\"https://api.github.com/users/c-sant/followers\",\"following_url\":\"https://api.github.com/users/c-sant/following{/other_user}\",\"gists_url\":\"https://api.github.com/users/c-sant/gists{/gist_id}\",\"starred_url\":\"https://api.github.com/users/c-sant/starred{/owner}{/repo}\",\"subscriptions_url\":\"https://api.github.com/users/c-sant/subscriptions\",\"organizations_url\":\"https://api.github.com/users/c-sant/orgs\",\"repos_url\":\"https://api.github.com/users/c-sant/repos\",\"events_url\":\"https://api.github.com/users/c-sant/events{/privacy}\",\"received_events_url\":\"https://api.github.com/users/c-sant/received_events\",\"type\":\"User\",\"site_admin\":false,\"name\":\"Carlos Santos\",\"company\":\"Mercedes-Benz do Brasil\",\"blog\":\"https://www.linkedin.com/in/c-sant/\",\"location\":\"São Paulo, Brasil\",\"email\":null,\"hireable\":true,\"bio\":\"21y Data Analyst and Computer Engineering student\",\"twitter_username\":null,\"public_repos\":10,\"public_gists\":0,\"followers\":6,\"following\":8,\"created_at\":\"2019-05-01T14:19:23Z\",\"updated_at\":\"2023-07-11T01:49:58Z\"}'"
      ]
     },
     "execution_count": 6,
     "metadata": {},
     "output_type": "execute_result"
    }
   ],
   "source": [
    "response.text"
   ]
  },
  {
   "attachments": {},
   "cell_type": "markdown",
   "metadata": {},
   "source": [
    "Mais uma vez, utilizamos o atributo `text`. Porém, como neste caso o resultado veio no formato JSON, podemos utilizar o método `json` do objeto `Response` para obter os dados no formato estruturado como um `dict`.\n"
   ]
  },
  {
   "cell_type": "code",
   "execution_count": 7,
   "metadata": {},
   "outputs": [
    {
     "data": {
      "text/plain": [
       "{'login': 'c-sant',\n",
       " 'id': 50174472,\n",
       " 'node_id': 'MDQ6VXNlcjUwMTc0NDcy',\n",
       " 'avatar_url': 'https://avatars.githubusercontent.com/u/50174472?v=4',\n",
       " 'gravatar_id': '',\n",
       " 'url': 'https://api.github.com/users/c-sant',\n",
       " 'html_url': 'https://github.com/c-sant',\n",
       " 'followers_url': 'https://api.github.com/users/c-sant/followers',\n",
       " 'following_url': 'https://api.github.com/users/c-sant/following{/other_user}',\n",
       " 'gists_url': 'https://api.github.com/users/c-sant/gists{/gist_id}',\n",
       " 'starred_url': 'https://api.github.com/users/c-sant/starred{/owner}{/repo}',\n",
       " 'subscriptions_url': 'https://api.github.com/users/c-sant/subscriptions',\n",
       " 'organizations_url': 'https://api.github.com/users/c-sant/orgs',\n",
       " 'repos_url': 'https://api.github.com/users/c-sant/repos',\n",
       " 'events_url': 'https://api.github.com/users/c-sant/events{/privacy}',\n",
       " 'received_events_url': 'https://api.github.com/users/c-sant/received_events',\n",
       " 'type': 'User',\n",
       " 'site_admin': False,\n",
       " 'name': 'Carlos Santos',\n",
       " 'company': 'Mercedes-Benz do Brasil',\n",
       " 'blog': 'https://www.linkedin.com/in/c-sant/',\n",
       " 'location': 'São Paulo, Brasil',\n",
       " 'email': None,\n",
       " 'hireable': True,\n",
       " 'bio': '21y Data Analyst and Computer Engineering student',\n",
       " 'twitter_username': None,\n",
       " 'public_repos': 10,\n",
       " 'public_gists': 0,\n",
       " 'followers': 6,\n",
       " 'following': 8,\n",
       " 'created_at': '2019-05-01T14:19:23Z',\n",
       " 'updated_at': '2023-07-11T01:49:58Z'}"
      ]
     },
     "execution_count": 7,
     "metadata": {},
     "output_type": "execute_result"
    }
   ],
   "source": [
    "data = response.json()\n",
    "data"
   ]
  },
  {
   "cell_type": "code",
   "execution_count": 8,
   "metadata": {},
   "outputs": [
    {
     "name": "stdout",
     "output_type": "stream",
     "text": [
      "Nome: Carlos Santos\n",
      "Bio: 21y Data Analyst and Computer Engineering student\n",
      "Empresa: Mercedes-Benz do Brasil\n"
     ]
    }
   ],
   "source": [
    "print(f\"Nome: {data['name']}\")\n",
    "print(f\"Bio: {data['bio']}\")\n",
    "print(f\"Empresa: {data['company']}\")"
   ]
  },
  {
   "attachments": {},
   "cell_type": "markdown",
   "metadata": {},
   "source": [
    "Como podemos observar, é muito mais fácil trabalhar com os dados obtidos pela API, uma vez que eles já vêm estruturados e prontos para serem convertidos em um dicionário Python, sem a necessidade de transformação de string.\n"
   ]
  },
  {
   "attachments": {},
   "cell_type": "markdown",
   "metadata": {},
   "source": [
    "### Passando argumentos para a URL\n",
    "\n",
    "Também é possível passar argumentos para a URL-alvo da requisição. Esses argumentos entram como argumentos da própria função do pacote.\n",
    "\n",
    "No exemplo abaixo, vamos requisitar os resultados da busca da palavra \"python\" nos repositórios do GitHub ordenados de forma decrescente de acordo com o número de estrelas dadas.\n"
   ]
  },
  {
   "cell_type": "code",
   "execution_count": 9,
   "metadata": {},
   "outputs": [
    {
     "data": {
      "text/plain": [
       "<Response [200]>"
      ]
     },
     "execution_count": 9,
     "metadata": {},
     "output_type": "execute_result"
    }
   ],
   "source": [
    "url = \"https://api.github.com/search/repositories\"\n",
    "\n",
    "query = \"python\"\n",
    "sort_criteria = \"stars\"\n",
    "sort_order = \"desc\"\n",
    "\n",
    "params = {\n",
    "    \"q\": query,\n",
    "    \"sort\": sort_criteria,\n",
    "    \"order\": sort_order,\n",
    "}\n",
    "\n",
    "response = requests.get(url=url, params=params)\n",
    "response"
   ]
  },
  {
   "attachments": {},
   "cell_type": "markdown",
   "metadata": {},
   "source": [
    "O URL será adaptado de acordo com os parâmetros passados:\n"
   ]
  },
  {
   "cell_type": "code",
   "execution_count": 10,
   "metadata": {},
   "outputs": [
    {
     "data": {
      "text/plain": [
       "'https://api.github.com/search/repositories?q=python&sort=stars&order=desc'"
      ]
     },
     "execution_count": 10,
     "metadata": {},
     "output_type": "execute_result"
    }
   ],
   "source": [
    "response.url"
   ]
  },
  {
   "cell_type": "code",
   "execution_count": 11,
   "metadata": {},
   "outputs": [
    {
     "name": "stdout",
     "output_type": "stream",
     "text": [
      "Os 10 projetos Python com mais estrelas são:\n",
      "system-design-primer (224358 estrelas): https://api.github.com/repos/donnemartin/system-design-primer\n",
      "tensorflow (176046 estrelas): https://api.github.com/repos/tensorflow/tensorflow\n",
      "awesome-python (173492 estrelas): https://api.github.com/repos/vinta/awesome-python\n",
      "CS-Notes (165401 estrelas): https://api.github.com/repos/CyC2018/CS-Notes\n",
      "Python (160753 estrelas): https://api.github.com/repos/TheAlgorithms/Python\n",
      "ohmyzsh (160548 estrelas): https://api.github.com/repos/ohmyzsh/ohmyzsh\n",
      "Auto-GPT (143407 estrelas): https://api.github.com/repos/Significant-Gravitas/Auto-GPT\n",
      "Python-100-Days (137496 estrelas): https://api.github.com/repos/jackfrued/Python-100-Days\n",
      "30-seconds-of-code (113883 estrelas): https://api.github.com/repos/30-seconds/30-seconds-of-code\n",
      "project-based-learning (110166 estrelas): https://api.github.com/repos/practical-tutorials/project-based-learning\n"
     ]
    }
   ],
   "source": [
    "data = response.json()\n",
    "\n",
    "print(\"Os 10 projetos Python com mais estrelas são:\")\n",
    "\n",
    "for item in data[\"items\"][:10]:\n",
    "    print(f\"{item['name']} ({item['stargazers_count']} estrelas): {item['url']}\")"
   ]
  },
  {
   "cell_type": "markdown",
   "metadata": {},
   "source": [
    "### Outros métodos HTTP\n",
    "\n",
    "Conforme mencionado anteriormente, os outros métodos HTTP também estão disponíveis e funcionam da mesma forma que o `GET`. O exemplo abaixo utilizará o site httpbin:\n"
   ]
  },
  {
   "cell_type": "code",
   "execution_count": 13,
   "metadata": {},
   "outputs": [
    {
     "name": "stdout",
     "output_type": "stream",
     "text": [
      "Resposta do POST: <Response [200]>\n",
      "Resposta do PUT: <Response [200]>\n",
      "Resposta do DELETE: <Response [200]>\n"
     ]
    }
   ],
   "source": [
    "data = {\n",
    "    \"chave\": \"valor\",\n",
    "}\n",
    "\n",
    "response = requests.post(url=\"https://httpbin.org/post\", data=data)\n",
    "print(f\"Resposta do POST: {response}\")\n",
    "\n",
    "response = requests.put(url=\"https://httpbin.org/put\", data=data)\n",
    "print(f\"Resposta do PUT: {response}\")\n",
    "\n",
    "response = requests.delete(url=\"https://httpbin.org/delete\")\n",
    "print(f\"Resposta do DELETE: {response}\")"
   ]
  }
 ],
 "metadata": {
  "kernelspec": {
   "display_name": "Python 3",
   "language": "python",
   "name": "python3"
  },
  "language_info": {
   "codemirror_mode": {
    "name": "ipython",
    "version": 3
   },
   "file_extension": ".py",
   "mimetype": "text/x-python",
   "name": "python",
   "nbconvert_exporter": "python",
   "pygments_lexer": "ipython3",
   "version": "3.11.0"
  },
  "orig_nbformat": 4
 },
 "nbformat": 4,
 "nbformat_minor": 2
}
