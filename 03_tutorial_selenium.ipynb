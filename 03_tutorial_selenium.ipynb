{
 "cells": [
  {
   "attachments": {},
   "cell_type": "markdown",
   "metadata": {},
   "source": [
    "## Introdução\n",
    "\n",
    "Assim como com os pacotes `requests` e `BeautifulSoup`, nós precisamos instalar o `Selenium` antes de utilizá-lo. Para isso, use o comando:\n",
    "\n",
    "```cmd\n",
    "pip install selenium\n",
    "```"
   ]
  },
  {
   "cell_type": "code",
   "execution_count": null,
   "metadata": {},
   "outputs": [],
   "source": [
    "from selenium.webdriver import Firefox\n",
    "from selenium.webdriver.firefox.service import Service"
   ]
  },
  {
   "attachments": {},
   "cell_type": "markdown",
   "metadata": {},
   "source": [
    "Além disso, também precisaremos de um arquivo chamado `geckodriver`. O `geckodriver` é um tipo de WebDriver específico do Firefox, que é o browser que estaremos utilizando neste exemplo. \n",
    "\n",
    "Um WebDriver é, em termos gerais, um \"navegador web automatizado\". Através de uma linguagem de programação, o WebDriver simulará ações de um usuário normal, como cliques, preenchimento de formulários etc."
   ]
  },
  {
   "attachments": {},
   "cell_type": "markdown",
   "metadata": {},
   "source": [
    "## Instanciando o Driver\n",
    "\n",
    "A seguir, instanciamos o objeto Firefox, o qual será usado como `driver`. É através dos métodos deste objeto que manipularemos as atividades do nosso navegador.\n",
    "\n",
    "Para isso, precisamos especificar onde está localizado o `geckodriver` que baixamos, usando um objeto da classe `Service`."
   ]
  },
  {
   "cell_type": "code",
   "execution_count": null,
   "metadata": {},
   "outputs": [],
   "source": [
    "service = Service(executable_path=\"geckodriver.exe\")\n",
    "driver = Firefox(service=service)"
   ]
  },
  {
   "attachments": {},
   "cell_type": "markdown",
   "metadata": {},
   "source": [
    "Para fechar o navegador quando terminarmos nosso script, basta usar o método `quit`."
   ]
  },
  {
   "cell_type": "code",
   "execution_count": null,
   "metadata": {},
   "outputs": [],
   "source": [
    "driver.quit()"
   ]
  },
  {
   "attachments": {},
   "cell_type": "markdown",
   "metadata": {},
   "source": [
    "## Acessando páginas\n",
    "\n",
    "Vamos instanciar o nosso navegador novamente."
   ]
  },
  {
   "cell_type": "code",
   "execution_count": null,
   "metadata": {},
   "outputs": [],
   "source": [
    "service = Service(executable_path=\"geckodriver.exe\")\n",
    "driver = Firefox(service=service)"
   ]
  },
  {
   "attachments": {},
   "cell_type": "markdown",
   "metadata": {},
   "source": [
    "Com o navegador aberto, podemos acessar alguma URL com o método `get` do nosso objeto `Firefox`, de forma bem semelhante à função da biblioteca `requests`."
   ]
  },
  {
   "cell_type": "code",
   "execution_count": null,
   "metadata": {},
   "outputs": [],
   "source": [
    "driver.get(\"https://www.google.com/\")"
   ]
  },
  {
   "attachments": {},
   "cell_type": "markdown",
   "metadata": {},
   "source": [
    "## Acessando elementos\n",
    "\n",
    "Os elementos da página podem ser acessados com o método `find_element`. Para usá-lo, precisaremos importar a classe auxiliar `By`."
   ]
  },
  {
   "cell_type": "code",
   "execution_count": null,
   "metadata": {},
   "outputs": [],
   "source": [
    "from selenium.webdriver.common.by import By"
   ]
  },
  {
   "attachments": {},
   "cell_type": "markdown",
   "metadata": {},
   "source": [
    "Essa classe serve para indicar por qual tipo de identificador nós estamos procurando (exemplos: ID, XPath, classe, tag etc.).\n",
    "\n",
    "A sintaxe do método find_element é bastante intuitiva e legível: pense em como você diria para o Selenium procurar por um elemento. Você especificaria por qual tipo de identificador ele deveria procurar e por qual nome. Algo no sentido:\n",
    "\n",
    "encontre o elemento que tenha o ID \"elemento-tal\".\n",
    "\n",
    "A sintaxe é exatamente essa: `find_element(by=By.ID, value=\"elemento-tal\")`"
   ]
  },
  {
   "attachments": {},
   "cell_type": "markdown",
   "metadata": {},
   "source": [
    "No exemplo abaixo, nós vamos pegar a barra de pesquisa do Google e tentar escrever nela. Inspecionando o elemento, percebemos que se trata da única `textarea` da página. Vamos usar a própria tag para pegá-la."
   ]
  },
  {
   "cell_type": "code",
   "execution_count": null,
   "metadata": {},
   "outputs": [],
   "source": [
    "search_bar = driver.find_element(by=By.TAG_NAME, value='textarea')"
   ]
  },
  {
   "cell_type": "code",
   "execution_count": null,
   "metadata": {},
   "outputs": [],
   "source": [
    "type(search_bar)"
   ]
  },
  {
   "attachments": {},
   "cell_type": "markdown",
   "metadata": {},
   "source": [
    "## Preenchendo inputs\n",
    "\n",
    "Armazenamos na variável `search_bar` um objeto da classe `WebElement`. Essa classe tem métodos que podemm ser utilizados para manipular esse elemento em específico.\n",
    "\n",
    "Vamos tentar pesquisar pela faculdade nessa barra. Para isso, enviaremos o texto \"Faculdade Engenheiro Salvador Arena\" para ela com o método `send_keys`."
   ]
  },
  {
   "cell_type": "code",
   "execution_count": null,
   "metadata": {},
   "outputs": [],
   "source": [
    "search_bar.send_keys(\"Faculdade Engenheiro Salvador Arena\")"
   ]
  },
  {
   "attachments": {},
   "cell_type": "markdown",
   "metadata": {},
   "source": [
    "Agora, com um `submit`, nós enviaremos nossa requisição para o Google."
   ]
  },
  {
   "cell_type": "code",
   "execution_count": null,
   "metadata": {},
   "outputs": [],
   "source": [
    "search_bar.submit()"
   ]
  },
  {
   "attachments": {},
   "cell_type": "markdown",
   "metadata": {},
   "source": [
    "## Extraindo dados\n",
    "\n",
    "Agora que temos a página com a lista de sites retornados após o envio da nossa pesquisa, nós podemos extrair informações desses sites.\n",
    "\n",
    "Primeiro, pegaremos todos os elementos que correspondem a um resultado. Observando o site do Google pelo inspecionar elemento, podemos ver um padrão: todos os resultados estão encapsulados em divs da classe `g`. Podemos usar isso a nosso favor. \n",
    "\n",
    "Basta usar o método `find_elements` para pegar uma lista de todos os elementos que correspondam ao critério estabelecido que, no caso, será elementos de classe `g`."
   ]
  },
  {
   "cell_type": "code",
   "execution_count": null,
   "metadata": {},
   "outputs": [],
   "source": [
    "results = driver.find_elements(By.CLASS_NAME, \"g\")"
   ]
  },
  {
   "cell_type": "code",
   "execution_count": null,
   "metadata": {},
   "outputs": [],
   "source": [
    "results"
   ]
  },
  {
   "attachments": {},
   "cell_type": "markdown",
   "metadata": {},
   "source": [
    "Dentro dessas divs, o título das páginas sempre aparece como um elemento `h3`. Vamos printar o texto desses `h3` e ver se o resultado bate com a página. Para isso, utilizaremos o próprio `find_element`, mas dessa vez buscando pela tag.\n",
    "\n",
    "Perceba que nós estamos utilizando o `find_element` em um objeto do tipo WebElement, e não mais no WebDriver. Isso significa que podemos usar esse método de forma recursiva para atravessar o aninhamento dos elementos no HTML."
   ]
  },
  {
   "cell_type": "code",
   "execution_count": null,
   "metadata": {},
   "outputs": [],
   "source": [
    "for result in results:\n",
    "    title = result.find_element(By.TAG_NAME, \"h3\")\n",
    "    \n",
    "    print(title.text)"
   ]
  },
  {
   "attachments": {},
   "cell_type": "markdown",
   "metadata": {},
   "source": [
    "Agora vamos checar se é possível extrair o link de cada página. Para isso, vamos pesquisar agora pela tag `a` (anchor), que tem o atributo `href` que é a URL do site."
   ]
  },
  {
   "cell_type": "code",
   "execution_count": null,
   "metadata": {},
   "outputs": [],
   "source": [
    "result_anchor = results[0].find_element(By.TAG_NAME, \"a\")"
   ]
  },
  {
   "attachments": {},
   "cell_type": "markdown",
   "metadata": {},
   "source": [
    "Vamos acessar o atributo `href` usando o método `get_attribute`."
   ]
  },
  {
   "cell_type": "code",
   "execution_count": null,
   "metadata": {},
   "outputs": [],
   "source": [
    "result_anchor.get_attribute(\"href\")"
   ]
  },
  {
   "attachments": {},
   "cell_type": "markdown",
   "metadata": {},
   "source": [
    "Por fim, podemos fechar o navegador."
   ]
  },
  {
   "cell_type": "code",
   "execution_count": null,
   "metadata": {},
   "outputs": [],
   "source": [
    "driver.quit()"
   ]
  },
  {
   "attachments": {},
   "cell_type": "markdown",
   "metadata": {},
   "source": [
    "## Conclusão\n",
    "\n",
    "Nós conseguimos cobrir, com esse código simples, os principais métodos do Selenium. Algoritmos que utilizam o framework dificilmente vão fugir disso, uma vez que essas são as principais interações de um usuário comum: \n",
    "- o uso de URL para acessar uma página web;\n",
    "- o preenchimento de formulários através da interação com elementos de input, bem como o envio dos dados inseridos na forma de uma requisição;\n",
    "- a seleção de dados visíveis na tela (extração).\n",
    "\n",
    "Abaixo, temos o código completo para que possamos visualizar sua execução sem interrupção: "
   ]
  },
  {
   "cell_type": "code",
   "execution_count": null,
   "metadata": {},
   "outputs": [],
   "source": [
    "from time import sleep\n",
    "\n",
    "service = Service(executable_path=\"geckodriver.exe\")\n",
    "driver = Firefox(service=service)\n",
    "\n",
    "driver.get(\"https://www.google.com/\")\n",
    "\n",
    "query = \"Faculdade Engenheiro Salvador Arena\"\n",
    "\n",
    "search_bar = driver.find_element(by=By.TAG_NAME, value='textarea')\n",
    "search_bar.send_keys(query)\n",
    "search_bar.submit()\n",
    "\n",
    "sleep(5) # espera a buscar carregar\n",
    "\n",
    "results = driver.find_elements(By.CLASS_NAME, \"g\")\n",
    "\n",
    "print(f\"Os resultados da pesquisa foram '{query}':\")\n",
    "for result in results:\n",
    "    title = result.find_element(By.TAG_NAME, \"h3\")\n",
    "    print(title.text)\n",
    "    \n",
    "driver.quit()"
   ]
  }
 ],
 "metadata": {
  "kernelspec": {
   "display_name": ".env",
   "language": "python",
   "name": "python3"
  },
  "language_info": {
   "codemirror_mode": {
    "name": "ipython",
    "version": 3
   },
   "file_extension": ".py",
   "mimetype": "text/x-python",
   "name": "python",
   "nbconvert_exporter": "python",
   "pygments_lexer": "ipython3",
   "version": "3.11.0"
  },
  "orig_nbformat": 4
 },
 "nbformat": 4,
 "nbformat_minor": 2
}
