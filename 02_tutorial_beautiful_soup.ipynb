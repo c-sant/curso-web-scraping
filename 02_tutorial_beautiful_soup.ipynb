{
 "cells": [
  {
   "cell_type": "markdown",
   "metadata": {},
   "source": [
    "## Introdução\n",
    "\n",
    "Assim como com a biblioteca `requests`, nós precisamos instalar o `BeautifulSoup` antes de utilizá-lo. Para isso, use o comando:\n",
    "\n",
    "```cmd\n",
    "pip install beautifulsoup4\n",
    "```\n"
   ]
  },
  {
   "cell_type": "code",
   "execution_count": 21,
   "metadata": {},
   "outputs": [],
   "source": [
    "from bs4 import BeautifulSoup"
   ]
  },
  {
   "cell_type": "markdown",
   "metadata": {},
   "source": [
    "## Extraindo dados do HTML\n",
    "\n",
    "Para extrair os dados de um documento HTML, precisamos instanciar um objeto `BeautifulSoup`. A partir dele podemos obter as informações contidas nos elementos acessando-os de forma hierárquica.\n"
   ]
  },
  {
   "cell_type": "code",
   "execution_count": 30,
   "metadata": {},
   "outputs": [
    {
     "data": {
      "text/plain": [
       "<body> <p id=\"main-paragraph\">Conteúdo do parágrafo principal</p> <p>Conteúdo de um parágrafo comum</p><body></body></body>"
      ]
     },
     "execution_count": 30,
     "metadata": {},
     "output_type": "execute_result"
    }
   ],
   "source": [
    "html = '<body><p id=\"main-paragraph\">Conteúdo do parágrafo principal</p><p></p></body>'\n",
    "html = (\n",
    "    \"<body>\"\n",
    "    '   <p id=\"main-paragraph\">Conteúdo do parágrafo principal</p>'\n",
    "    \"   <p>Conteúdo de um parágrafo comum</p>\"\n",
    "    \"<body>\"\n",
    ")\n",
    "\n",
    "soup = BeautifulSoup(html, \"html.parser\")\n",
    "soup"
   ]
  },
  {
   "cell_type": "markdown",
   "metadata": {},
   "source": []
  },
  {
   "cell_type": "markdown",
   "metadata": {},
   "source": [
    "## Trabalhando com o requests\n",
    "\n",
    "Como o `BeautifulSoup` é uma biblioteca voltada para a análise e extração de dados estruturados seguindo o HTML e o XML, nós podemos utilizar a biblioteca `requests` para baixar o arquivo HTML e usá-lo para \"alimentar\" o `BeautifulSoup`.\n",
    "\n",
    "No exemplo abaixo, estaremos extraindo informações dos filmes que aparecem na lista de \"melhores 250 filmes\" da IMDB.\n"
   ]
  },
  {
   "cell_type": "code",
   "execution_count": 22,
   "metadata": {},
   "outputs": [],
   "source": [
    "import requests\n",
    "from requests.exceptions import HTTPError  # uma exceção específica para erros HTTP"
   ]
  },
  {
   "cell_type": "code",
   "execution_count": 8,
   "metadata": {},
   "outputs": [],
   "source": [
    "url = \"https://www.python.org\"\n",
    "\n",
    "response = requests.get(url)\n",
    "\n",
    "# checa se a requisição foi bem sucedida\n",
    "\n",
    "if response.status_code != 200:\n",
    "    raise HTTPError(\"Houve um problema durante a requisição dos dados.\")"
   ]
  },
  {
   "cell_type": "code",
   "execution_count": 20,
   "metadata": {},
   "outputs": [
    {
     "name": "stdout",
     "output_type": "stream",
     "text": [
      "Title: Python 3.12.0 beta 4 released\n",
      "Link: https://pythoninsider.blogspot.com/2023/07/pleased-to-announce-release-of-python-3.html\n",
      "\n",
      "Title: Announcing the 2023 PSF Board Election Results!\n",
      "Link: https://pyfound.blogspot.com/2023/06/announcing-2023-psf-board-election.html\n",
      "\n",
      "Title: Announcing Our New Security Developer in Residence!\n",
      "Link: https://pyfound.blogspot.com/2023/06/announcing-our-new-security-developer.html\n",
      "\n",
      "Title: Python 3.12.0 beta 3 released\n",
      "Link: https://pythoninsider.blogspot.com/2023/06/python-3120-beta-3-released.html\n",
      "\n",
      "Title: The 2023 PSF Board Election is Open!\n",
      "Link: https://pyfound.blogspot.com/2023/06/the-2023-psf-board-election-is-open.html\n",
      "\n"
     ]
    }
   ],
   "source": [
    "soup = BeautifulSoup(response.content, \"html.parser\")\n",
    "\n",
    "news_articles = soup.select(\"div.blog-widget li\")\n",
    "\n",
    "for article in news_articles:\n",
    "    article_anchor = article.a\n",
    "\n",
    "    link = article_anchor[\"href\"]\n",
    "    title = article_anchor.text\n",
    "\n",
    "    print(f\"Title: {title}\")\n",
    "    print(f\"Link: {link}\")\n",
    "    print()"
   ]
  }
 ],
 "metadata": {
  "kernelspec": {
   "display_name": ".env",
   "language": "python",
   "name": "python3"
  },
  "language_info": {
   "codemirror_mode": {
    "name": "ipython",
    "version": 3
   },
   "file_extension": ".py",
   "mimetype": "text/x-python",
   "name": "python",
   "nbconvert_exporter": "python",
   "pygments_lexer": "ipython3",
   "version": "3.11.0"
  },
  "orig_nbformat": 4
 },
 "nbformat": 4,
 "nbformat_minor": 2
}
